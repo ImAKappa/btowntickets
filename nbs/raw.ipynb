{
 "cells": [
  {
   "cell_type": "markdown",
   "metadata": {},
   "source": [
    "# Raw\n",
    "\n",
    "> Notes on the raw parking ticket dataset. For documentation purposes only"
   ]
  },
  {
   "cell_type": "code",
   "execution_count": 2,
   "metadata": {},
   "outputs": [],
   "source": [
    "import pandas as pd\n",
    "from pathlib import Path\n",
    "\n",
    "from btowntickets import utils"
   ]
  },
  {
   "cell_type": "markdown",
   "metadata": {},
   "source": [
    "## Profile the Raw Dataset"
   ]
  },
  {
   "cell_type": "markdown",
   "metadata": {},
   "source": [
    "### Data loading"
   ]
  },
  {
   "cell_type": "code",
   "execution_count": 3,
   "metadata": {},
   "outputs": [
    {
     "name": "stderr",
     "output_type": "stream",
     "text": [
      "C:\\Users\\alexk\\AppData\\Local\\Temp\\ipykernel_14980\\1931205828.py:2: DtypeWarning: Columns (11) have mixed types. Specify dtype option on import or set low_memory=False.\n",
      "  df = pd.read_csv(DATA)\n"
     ]
    }
   ],
   "source": [
    "DATA = Path(\"../data/raw/Penalty_Notices-Parking_Tickets-2013_2018.csv\")\n",
    "df = pd.read_csv(DATA)"
   ]
  },
  {
   "cell_type": "markdown",
   "metadata": {},
   "source": [
    "### Columns"
   ]
  },
  {
   "cell_type": "code",
   "execution_count": 4,
   "metadata": {},
   "outputs": [
    {
     "name": "stdout",
     "output_type": "stream",
     "text": [
      "Number of Columns: 12\n"
     ]
    },
    {
     "data": {
      "text/plain": [
       "Index(['X', 'Y', 'OBJECTID', 'ADDRESS', 'ISSUEDATE', 'LICSTATEPROV', 'VIOCODE',\n",
       "       'VIODESCRIPTION', 'VIOFINE', 'VOIDSTATUS', 'ISSUETIME', 'ISSUENO_MASK'],\n",
       "      dtype='object')"
      ]
     },
     "execution_count": 4,
     "metadata": {},
     "output_type": "execute_result"
    }
   ],
   "source": [
    "print(f\"Number of Columns: {len(df.columns)}\")\n",
    "df.columns"
   ]
  },
  {
   "cell_type": "markdown",
   "metadata": {},
   "source": [
    "### Rows"
   ]
  },
  {
   "cell_type": "code",
   "execution_count": 5,
   "metadata": {},
   "outputs": [
    {
     "name": "stdout",
     "output_type": "stream",
     "text": [
      "Numb of Rows: 397416\n"
     ]
    },
    {
     "data": {
      "text/html": [
       "<div>\n",
       "<style scoped>\n",
       "    .dataframe tbody tr th:only-of-type {\n",
       "        vertical-align: middle;\n",
       "    }\n",
       "\n",
       "    .dataframe tbody tr th {\n",
       "        vertical-align: top;\n",
       "    }\n",
       "\n",
       "    .dataframe thead th {\n",
       "        text-align: right;\n",
       "    }\n",
       "</style>\n",
       "<table border=\"1\" class=\"dataframe\">\n",
       "  <thead>\n",
       "    <tr style=\"text-align: right;\">\n",
       "      <th></th>\n",
       "      <th>X</th>\n",
       "      <th>Y</th>\n",
       "      <th>OBJECTID</th>\n",
       "      <th>ADDRESS</th>\n",
       "      <th>ISSUEDATE</th>\n",
       "      <th>LICSTATEPROV</th>\n",
       "      <th>VIOCODE</th>\n",
       "      <th>VIODESCRIPTION</th>\n",
       "      <th>VIOFINE</th>\n",
       "      <th>VOIDSTATUS</th>\n",
       "      <th>ISSUETIME</th>\n",
       "      <th>ISSUENO_MASK</th>\n",
       "    </tr>\n",
       "  </thead>\n",
       "  <tbody>\n",
       "    <tr>\n",
       "      <th>0</th>\n",
       "      <td>-8.877191e+06</td>\n",
       "      <td>5.426114e+06</td>\n",
       "      <td>168321</td>\n",
       "      <td>2100 BOVAIRD DR. E.</td>\n",
       "      <td>2013/01/01 00:00:00+00</td>\n",
       "      <td>ON</td>\n",
       "      <td>93-93 Sect 46(1)</td>\n",
       "      <td>PARK ON PRIVATE PROPERTY</td>\n",
       "      <td>40.0</td>\n",
       "      <td>NO</td>\n",
       "      <td>1899/12/30 09:25:00+00</td>\n",
       "      <td>XXX2454</td>\n",
       "    </tr>\n",
       "    <tr>\n",
       "      <th>1</th>\n",
       "      <td>-8.877191e+06</td>\n",
       "      <td>5.426114e+06</td>\n",
       "      <td>168322</td>\n",
       "      <td>2100 BOVAIRD DR. E.</td>\n",
       "      <td>2013/01/01 00:00:00+00</td>\n",
       "      <td>ON</td>\n",
       "      <td>93-93 Sect 46(1)</td>\n",
       "      <td>PARK ON PRIVATE PROPERTY</td>\n",
       "      <td>40.0</td>\n",
       "      <td>NO</td>\n",
       "      <td>1899/12/30 09:59:00+00</td>\n",
       "      <td>XXX2457</td>\n",
       "    </tr>\n",
       "    <tr>\n",
       "      <th>2</th>\n",
       "      <td>-8.885088e+06</td>\n",
       "      <td>5.416361e+06</td>\n",
       "      <td>168323</td>\n",
       "      <td>17 WORTHINGTON AVE W</td>\n",
       "      <td>2013/01/01 00:00:00+00</td>\n",
       "      <td>ON</td>\n",
       "      <td>93-93 Sect 46(1)</td>\n",
       "      <td>PARK ON PRIVATE PROPERTY</td>\n",
       "      <td>20.0</td>\n",
       "      <td>NO</td>\n",
       "      <td>1899/12/30 05:36:00+00</td>\n",
       "      <td>XXX5887</td>\n",
       "    </tr>\n",
       "  </tbody>\n",
       "</table>\n",
       "</div>"
      ],
      "text/plain": [
       "              X             Y  OBJECTID               ADDRESS  \\\n",
       "0 -8.877191e+06  5.426114e+06    168321   2100 BOVAIRD DR. E.   \n",
       "1 -8.877191e+06  5.426114e+06    168322   2100 BOVAIRD DR. E.   \n",
       "2 -8.885088e+06  5.416361e+06    168323  17 WORTHINGTON AVE W   \n",
       "\n",
       "                ISSUEDATE LICSTATEPROV           VIOCODE  \\\n",
       "0  2013/01/01 00:00:00+00           ON  93-93 Sect 46(1)   \n",
       "1  2013/01/01 00:00:00+00           ON  93-93 Sect 46(1)   \n",
       "2  2013/01/01 00:00:00+00           ON  93-93 Sect 46(1)   \n",
       "\n",
       "             VIODESCRIPTION  VIOFINE VOIDSTATUS               ISSUETIME  \\\n",
       "0  PARK ON PRIVATE PROPERTY     40.0         NO  1899/12/30 09:25:00+00   \n",
       "1  PARK ON PRIVATE PROPERTY     40.0         NO  1899/12/30 09:59:00+00   \n",
       "2  PARK ON PRIVATE PROPERTY     20.0         NO  1899/12/30 05:36:00+00   \n",
       "\n",
       "  ISSUENO_MASK  \n",
       "0      XXX2454  \n",
       "1      XXX2457  \n",
       "2      XXX5887  "
      ]
     },
     "execution_count": 5,
     "metadata": {},
     "output_type": "execute_result"
    }
   ],
   "source": [
    "print(f\"Numb of Rows: {len(df)}\")\n",
    "df.head(3)"
   ]
  },
  {
   "cell_type": "markdown",
   "metadata": {},
   "source": [
    "### Data types"
   ]
  },
  {
   "cell_type": "code",
   "execution_count": 6,
   "metadata": {},
   "outputs": [
    {
     "data": {
      "text/plain": [
       "X                 float64\n",
       "Y                 float64\n",
       "OBJECTID            int64\n",
       "ADDRESS            object\n",
       "ISSUEDATE          object\n",
       "LICSTATEPROV       object\n",
       "VIOCODE            object\n",
       "VIODESCRIPTION     object\n",
       "VIOFINE           float64\n",
       "VOIDSTATUS         object\n",
       "ISSUETIME          object\n",
       "ISSUENO_MASK       object\n",
       "dtype: object"
      ]
     },
     "execution_count": 6,
     "metadata": {},
     "output_type": "execute_result"
    }
   ],
   "source": [
    "df.dtypes"
   ]
  },
  {
   "cell_type": "markdown",
   "metadata": {},
   "source": [
    "### Null Values"
   ]
  },
  {
   "cell_type": "code",
   "execution_count": 7,
   "metadata": {},
   "outputs": [
    {
     "data": {
      "text/html": [
       "<div>\n",
       "<style scoped>\n",
       "    .dataframe tbody tr th:only-of-type {\n",
       "        vertical-align: middle;\n",
       "    }\n",
       "\n",
       "    .dataframe tbody tr th {\n",
       "        vertical-align: top;\n",
       "    }\n",
       "\n",
       "    .dataframe thead th {\n",
       "        text-align: right;\n",
       "    }\n",
       "</style>\n",
       "<table border=\"1\" class=\"dataframe\">\n",
       "  <thead>\n",
       "    <tr style=\"text-align: right;\">\n",
       "      <th></th>\n",
       "      <th>Column</th>\n",
       "      <th>Null Count</th>\n",
       "      <th>Null Pct</th>\n",
       "    </tr>\n",
       "  </thead>\n",
       "  <tbody>\n",
       "    <tr>\n",
       "      <th>11</th>\n",
       "      <td>ISSUENO_MASK</td>\n",
       "      <td>62058</td>\n",
       "      <td>0.156154</td>\n",
       "    </tr>\n",
       "    <tr>\n",
       "      <th>4</th>\n",
       "      <td>ISSUEDATE</td>\n",
       "      <td>20732</td>\n",
       "      <td>0.052167</td>\n",
       "    </tr>\n",
       "    <tr>\n",
       "      <th>5</th>\n",
       "      <td>LICSTATEPROV</td>\n",
       "      <td>1554</td>\n",
       "      <td>0.003910</td>\n",
       "    </tr>\n",
       "    <tr>\n",
       "      <th>10</th>\n",
       "      <td>ISSUETIME</td>\n",
       "      <td>19</td>\n",
       "      <td>0.000048</td>\n",
       "    </tr>\n",
       "    <tr>\n",
       "      <th>0</th>\n",
       "      <td>X</td>\n",
       "      <td>0</td>\n",
       "      <td>0.000000</td>\n",
       "    </tr>\n",
       "    <tr>\n",
       "      <th>1</th>\n",
       "      <td>Y</td>\n",
       "      <td>0</td>\n",
       "      <td>0.000000</td>\n",
       "    </tr>\n",
       "    <tr>\n",
       "      <th>2</th>\n",
       "      <td>OBJECTID</td>\n",
       "      <td>0</td>\n",
       "      <td>0.000000</td>\n",
       "    </tr>\n",
       "    <tr>\n",
       "      <th>3</th>\n",
       "      <td>ADDRESS</td>\n",
       "      <td>0</td>\n",
       "      <td>0.000000</td>\n",
       "    </tr>\n",
       "    <tr>\n",
       "      <th>6</th>\n",
       "      <td>VIOCODE</td>\n",
       "      <td>0</td>\n",
       "      <td>0.000000</td>\n",
       "    </tr>\n",
       "    <tr>\n",
       "      <th>7</th>\n",
       "      <td>VIODESCRIPTION</td>\n",
       "      <td>0</td>\n",
       "      <td>0.000000</td>\n",
       "    </tr>\n",
       "    <tr>\n",
       "      <th>8</th>\n",
       "      <td>VIOFINE</td>\n",
       "      <td>0</td>\n",
       "      <td>0.000000</td>\n",
       "    </tr>\n",
       "    <tr>\n",
       "      <th>9</th>\n",
       "      <td>VOIDSTATUS</td>\n",
       "      <td>0</td>\n",
       "      <td>0.000000</td>\n",
       "    </tr>\n",
       "  </tbody>\n",
       "</table>\n",
       "</div>"
      ],
      "text/plain": [
       "            Column  Null Count  Null Pct\n",
       "11    ISSUENO_MASK       62058  0.156154\n",
       "4        ISSUEDATE       20732  0.052167\n",
       "5     LICSTATEPROV        1554  0.003910\n",
       "10       ISSUETIME          19  0.000048\n",
       "0                X           0  0.000000\n",
       "1                Y           0  0.000000\n",
       "2         OBJECTID           0  0.000000\n",
       "3          ADDRESS           0  0.000000\n",
       "6          VIOCODE           0  0.000000\n",
       "7   VIODESCRIPTION           0  0.000000\n",
       "8          VIOFINE           0  0.000000\n",
       "9       VOIDSTATUS           0  0.000000"
      ]
     },
     "execution_count": 7,
     "metadata": {},
     "output_type": "execute_result"
    }
   ],
   "source": [
    "utils.profile_nulls(df).sort_values(by=\"Null Pct\", ascending=False)"
   ]
  },
  {
   "cell_type": "markdown",
   "metadata": {},
   "source": [
    "### Duplicates\n",
    "\n",
    "No duplicates found"
   ]
  },
  {
   "cell_type": "code",
   "execution_count": 8,
   "metadata": {},
   "outputs": [
    {
     "data": {
      "text/html": [
       "<div>\n",
       "<style scoped>\n",
       "    .dataframe tbody tr th:only-of-type {\n",
       "        vertical-align: middle;\n",
       "    }\n",
       "\n",
       "    .dataframe tbody tr th {\n",
       "        vertical-align: top;\n",
       "    }\n",
       "\n",
       "    .dataframe thead th {\n",
       "        text-align: right;\n",
       "    }\n",
       "</style>\n",
       "<table border=\"1\" class=\"dataframe\">\n",
       "  <thead>\n",
       "    <tr style=\"text-align: right;\">\n",
       "      <th></th>\n",
       "      <th>X</th>\n",
       "      <th>Y</th>\n",
       "      <th>OBJECTID</th>\n",
       "      <th>ADDRESS</th>\n",
       "      <th>ISSUEDATE</th>\n",
       "      <th>LICSTATEPROV</th>\n",
       "      <th>VIOCODE</th>\n",
       "      <th>VIODESCRIPTION</th>\n",
       "      <th>VIOFINE</th>\n",
       "      <th>VOIDSTATUS</th>\n",
       "      <th>ISSUETIME</th>\n",
       "      <th>ISSUENO_MASK</th>\n",
       "    </tr>\n",
       "  </thead>\n",
       "  <tbody>\n",
       "  </tbody>\n",
       "</table>\n",
       "</div>"
      ],
      "text/plain": [
       "Empty DataFrame\n",
       "Columns: [X, Y, OBJECTID, ADDRESS, ISSUEDATE, LICSTATEPROV, VIOCODE, VIODESCRIPTION, VIOFINE, VOIDSTATUS, ISSUETIME, ISSUENO_MASK]\n",
       "Index: []"
      ]
     },
     "execution_count": 8,
     "metadata": {},
     "output_type": "execute_result"
    }
   ],
   "source": [
    "df[df.duplicated()]"
   ]
  },
  {
   "cell_type": "markdown",
   "metadata": {},
   "source": [
    "## Columns"
   ]
  },
  {
   "cell_type": "markdown",
   "metadata": {},
   "source": [
    "### X, Y, and ADDRESS\n",
    "\n",
    "Some coordinate data. Could be useful for map visualizations to see where parking tickets are issued, along with the address.\n",
    "Might be useful with GeoPandas"
   ]
  },
  {
   "cell_type": "code",
   "execution_count": 9,
   "metadata": {},
   "outputs": [
    {
     "data": {
      "text/plain": [
       "0        -8.877191e+06\n",
       "1        -8.877191e+06\n",
       "2        -8.885088e+06\n",
       "3        -8.877191e+06\n",
       "4        -8.877191e+06\n",
       "              ...     \n",
       "397411   -8.881785e+06\n",
       "397412   -8.881785e+06\n",
       "397413   -8.881785e+06\n",
       "397414   -8.881785e+06\n",
       "397415   -8.877559e+06\n",
       "Name: X, Length: 397416, dtype: float64"
      ]
     },
     "execution_count": 9,
     "metadata": {},
     "output_type": "execute_result"
    }
   ],
   "source": [
    "df[\"X\"]"
   ]
  },
  {
   "cell_type": "code",
   "execution_count": 10,
   "metadata": {},
   "outputs": [
    {
     "data": {
      "text/plain": [
       "0         5.426114e+06\n",
       "1         5.426114e+06\n",
       "2         5.416361e+06\n",
       "3         5.426114e+06\n",
       "4         5.426114e+06\n",
       "              ...     \n",
       "397411    5.414548e+06\n",
       "397412    5.414548e+06\n",
       "397413    5.414548e+06\n",
       "397414    5.414548e+06\n",
       "397415    5.431857e+06\n",
       "Name: Y, Length: 397416, dtype: float64"
      ]
     },
     "execution_count": 10,
     "metadata": {},
     "output_type": "execute_result"
    }
   ],
   "source": [
    "df[\"Y\"]"
   ]
  },
  {
   "cell_type": "code",
   "execution_count": 11,
   "metadata": {},
   "outputs": [
    {
     "data": {
      "text/plain": [
       "ADDRESS\n",
       "435 ARCHDEKIN DR               16868\n",
       "64 BRAMHALL CIR                 3600\n",
       "CENTRAL PARK DR AT 150          3545\n",
       "PETER ROBERTSON BLVD AT 995     2443\n",
       "RAY LAWSON BLVD AT 500          1565\n",
       "                               ...  \n",
       "MOUNTAIN GORGE RD NEAR 17          1\n",
       "PIKA TRAIL NEAR 12                 1\n",
       "OXTAIL LANE AT 4                   1\n",
       "RED CEDAR CRES NEAR 55             1\n",
       "60 SEA DRIFTER CRES                1\n",
       "Name: count, Length: 72656, dtype: int64"
      ]
     },
     "execution_count": 11,
     "metadata": {},
     "output_type": "execute_result"
    }
   ],
   "source": [
    "df[\"ADDRESS\"].value_counts(dropna=False)"
   ]
  },
  {
   "cell_type": "markdown",
   "metadata": {},
   "source": [
    "## Object ID and ISSUENO_MASK"
   ]
  },
  {
   "cell_type": "markdown",
   "metadata": {},
   "source": [
    "I don\"t know what this exactly. Maybe some sort of primary key to identify the ticket?\n",
    "If so, then `OBJECTID` should be unique"
   ]
  },
  {
   "cell_type": "code",
   "execution_count": 12,
   "metadata": {},
   "outputs": [
    {
     "data": {
      "text/plain": [
       "True"
      ]
     },
     "execution_count": 12,
     "metadata": {},
     "output_type": "execute_result"
    }
   ],
   "source": [
    "# Test that object ID is unique\n",
    "len(df[\"OBJECTID\"].unique()) == len(df)"
   ]
  },
  {
   "cell_type": "markdown",
   "metadata": {},
   "source": [
    "I don't know what `ISSUENO_MASK` is..."
   ]
  },
  {
   "cell_type": "code",
   "execution_count": 13,
   "metadata": {},
   "outputs": [
    {
     "data": {
      "text/plain": [
       "ISSUENO_MASK\n",
       "NaN         62058\n",
       "XXX1456        12\n",
       "XXX1635        11\n",
       "XXX7145        11\n",
       "XXX1303        11\n",
       "            ...  \n",
       "XXX55731        1\n",
       "XXX96245        1\n",
       "XXX91904        1\n",
       "XXX43012        1\n",
       "XXX02348        1\n",
       "Name: count, Length: 109866, dtype: int64"
      ]
     },
     "execution_count": 13,
     "metadata": {},
     "output_type": "execute_result"
    }
   ],
   "source": [
    "df[\"ISSUENO_MASK\"].value_counts(dropna=False)"
   ]
  },
  {
   "cell_type": "markdown",
   "metadata": {},
   "source": [
    "## ISSUEDATE and ISSUETIME\n",
    "\n",
    "We can combine the `ISSUEDATE` and `ISSUETIME` into one column"
   ]
  },
  {
   "cell_type": "code",
   "execution_count": 14,
   "metadata": {},
   "outputs": [
    {
     "name": "stdout",
     "output_type": "stream",
     "text": [
      "Earliest date: 2013-01-01\n",
      "Latest date: 2018-07-27\n"
     ]
    }
   ],
   "source": [
    "print(\"Earliest date:\", pd.to_datetime(df[\"ISSUEDATE\"]).min().date())\n",
    "print(\"Latest date:\", pd.to_datetime(df[\"ISSUEDATE\"]).max().date())"
   ]
  },
  {
   "cell_type": "code",
   "execution_count": 15,
   "metadata": {},
   "outputs": [
    {
     "data": {
      "text/plain": [
       "ISSUEDATE\n",
       "NaN                       20732\n",
       "2018/03/31 00:00:00+00      529\n",
       "2018/07/21 00:00:00+00      518\n",
       "2018/06/26 00:00:00+00      506\n",
       "2018/07/12 00:00:00+00      504\n",
       "                          ...  \n",
       "2015/12/25 00:00:00+00        8\n",
       "2016/12/25 00:00:00+00        6\n",
       "2017/12/25 00:00:00+00        6\n",
       "2014/12/25 00:00:00+00        2\n",
       "2013/12/25 00:00:00+00        2\n",
       "Name: count, Length: 2035, dtype: int64"
      ]
     },
     "execution_count": 15,
     "metadata": {},
     "output_type": "execute_result"
    }
   ],
   "source": [
    "df[\"ISSUEDATE\"].value_counts(dropna=False)"
   ]
  },
  {
   "cell_type": "markdown",
   "metadata": {},
   "source": [
    "The time information in `ISSUEDATE` is not informative; we'll need to just extract the date info (assume Easter Standard Time because the dataset is for Brampton, Ontario)"
   ]
  },
  {
   "cell_type": "code",
   "execution_count": 16,
   "metadata": {},
   "outputs": [
    {
     "data": {
      "text/plain": [
       "ISSUETIME\n",
       "1899/12/30 00:00:00+00    62113\n",
       "1899/12/30 03:45:00+00     1417\n",
       "1899/12/30 03:44:00+00     1387\n",
       "1899/12/30 03:42:00+00     1387\n",
       "1899/12/30 03:28:00+00     1362\n",
       "                          ...  \n",
       "1899/12/30 07:21:00+00        5\n",
       "1899/12/30 07:14:00+00        5\n",
       "1899/12/30 07:36:00+00        5\n",
       "1899/12/30 07:09:00+00        4\n",
       "1899/12/30 07:12:00+00        3\n",
       "Name: count, Length: 1441, dtype: int64"
      ]
     },
     "execution_count": 16,
     "metadata": {},
     "output_type": "execute_result"
    }
   ],
   "source": [
    "df[\"ISSUETIME\"].value_counts(dropna=False)"
   ]
  },
  {
   "cell_type": "markdown",
   "metadata": {},
   "source": [
    "The date information in `ISSUETIME` is not informative; we'll need to just extract the time info (assume Easter Standard Time because the dataset is for Brampton, Ontario)"
   ]
  },
  {
   "cell_type": "markdown",
   "metadata": {},
   "source": [
    "## LICSTATEPROV and VOIDSTATUS\n",
    "\n",
    "\n",
    "`LICSTATEPROV` = The province to which the license plate belongs\n",
    "\n",
    "`VOIDSTATUS` = Whether the ticket was voided or not"
   ]
  },
  {
   "cell_type": "code",
   "execution_count": 16,
   "metadata": {},
   "outputs": [
    {
     "data": {
      "text/plain": [
       "LICSTATEPROV\n",
       "ON     383383\n",
       "QC       4281\n",
       "AB       1952\n",
       "NaN      1554\n",
       "NY        650\n",
       "        ...  \n",
       "SD          1\n",
       "AK          1\n",
       "WY          1\n",
       "HI          1\n",
       "MX          1\n",
       "Name: count, Length: 69, dtype: int64"
      ]
     },
     "execution_count": 16,
     "metadata": {},
     "output_type": "execute_result"
    }
   ],
   "source": [
    "df[\"LICSTATEPROV\"].value_counts(dropna=False)"
   ]
  },
  {
   "cell_type": "code",
   "execution_count": 17,
   "metadata": {},
   "outputs": [
    {
     "data": {
      "text/plain": [
       "VOIDSTATUS\n",
       "NO    335358\n",
       "XX     56477\n",
       "VO      5581\n",
       "Name: count, dtype: int64"
      ]
     },
     "execution_count": 17,
     "metadata": {},
     "output_type": "execute_result"
    }
   ],
   "source": [
    "df[\"VOIDSTATUS\"].value_counts(dropna=False)"
   ]
  },
  {
   "cell_type": "markdown",
   "metadata": {},
   "source": [
    "### VIOCODE\n",
    "\n",
    "Not entirely sure about the format, but it looks like at most we have:\n",
    "\n",
    "`{year}-{year} Sect {Section}({Subsection})({Paragraph})`\n",
    "\n",
    "There are some inconsistencies with the \"Sect\" portion of the code, even with the format of the Section and Subsection.\n",
    "It's not important so we could extract the section code (and the subsection code too)"
   ]
  },
  {
   "cell_type": "code",
   "execution_count": 18,
   "metadata": {},
   "outputs": [
    {
     "data": {
      "text/plain": [
       "VIOCODE\n",
       "93-93 Sect 42(11)      212312\n",
       "93-93 Sect 46(1)        57297\n",
       "93-93 Sect 42(1)        21627\n",
       "93-93 Sect 42(8)        14327\n",
       "93-93 Sect 42(12)       14054\n",
       "93-93 Sect 57(12)       11241\n",
       "93-93 Sect 47(5)        11200\n",
       "93-93 Sect 40(1)         9356\n",
       "93-93 Sect 55(1)         7981\n",
       "93-93 Sect 42(2)         4868\n",
       "93-93 Sect 44            4424\n",
       "93-93 Sect 45            4266\n",
       "93-93 Sect. 42(7A)       3458\n",
       "93-93 Sect 42(7)         3281\n",
       "93-93 Sect 43(2)         2609\n",
       "93-93 Sect 56.1(3)       2448\n",
       "93-93 Sect 50            2107\n",
       "93-93 Sect 48(5)         1698\n",
       "93-93 Sect 56(4)         1653\n",
       "93-93 Sect 48(3)         1371\n",
       "93-93 Sect 49             684\n",
       "93-93 Sect 51.2           619\n",
       "93-93 Sect 56.1(4)        592\n",
       "104-2018 Sect 2           581\n",
       "93-93 Sect 55.1           544\n",
       "93-93 Sect 42(4)          538\n",
       "93-93 Sect 42(3)          474\n",
       "93-93 Sect 56.1(5)        455\n",
       "93-93 Sect 42(6)          315\n",
       "93-93 Sect 51             193\n",
       "93-93 Sect 43.2           158\n",
       "93-93 SECT 46(1)          132\n",
       "93-93 Sect 21(2)(B)       125\n",
       "93-93 Sect 42(13)          98\n",
       "93-93 Sect 43(1)(K)        49\n",
       "93-93 Sect. 55             48\n",
       "93-93 Sect 57(6)(3)        38\n",
       "93-93 Sect 57(6)(4)        30\n",
       "                           29\n",
       "93-93 Sect 56.1(10)        28\n",
       "93-93 Sect 56(10)          25\n",
       "93-93 43.1(1)              23\n",
       "93-93 Sect 57(6)(7)        20\n",
       "93-93 Sect 57(6)(5)        16\n",
       "93-93 Sect 42(10)          11\n",
       "93-93 SECT 47(5)            7\n",
       "93-93 43.1(2)               4\n",
       "93-93 SECT 43(1)(K)         1\n",
       "93-93 Sect 43(4)            1\n",
       "Name: count, dtype: int64"
      ]
     },
     "execution_count": 18,
     "metadata": {},
     "output_type": "execute_result"
    }
   ],
   "source": [
    "df[\"VIOCODE\"].value_counts(dropna=False)"
   ]
  },
  {
   "cell_type": "markdown",
   "metadata": {},
   "source": [
    "### VIODESCRIPTION"
   ]
  },
  {
   "cell_type": "code",
   "execution_count": 19,
   "metadata": {},
   "outputs": [
    {
     "data": {
      "text/plain": [
       "VIODESCRIPTION\n",
       "PARKING 2:00 AM TO 6:00 AM PROHIBITED                                 212312\n",
       "PARK ON PRIVATE PROPERTY                                               57365\n",
       "PARK OBSTRUCTING SIDEWALK                                              21627\n",
       "PARK IN EXCESS OF 3 HOURS                                              14327\n",
       "PARK IN A PROHIBITED AREA                                              14054\n",
       "PARK ON MUNICIPAL PROPERTY                                             11241\n",
       "PARK IN A DESIGNATED FIRE ROUTE                                        11207\n",
       "PARK UNLICENSED VEHICLE                                                 7981\n",
       "PARK FACING WRONG WAY                                                   6589\n",
       "PARK WITHIN 3M OF FIRE HYDRANT                                          4868\n",
       "PARK INTERFERING WITH SNOW REMOVAL AND/OR WINTER MAINTENANCE            4424\n",
       "PARK OVERHANG CURB                                                      3458\n",
       "PARK LARGE MOTOR VEHICLE ON STREET                                      3290\n",
       "PARK ON BOULEVARD                                                       3281\n",
       "PARK MORE THAN 15 CM FROM CURB                                          2767\n",
       "STOP IN PROHIBITED AREA                                                 2609\n",
       "PARK AND FAIL TO DISPLAY RECEIPT                                        2460\n",
       "STOP PROHIBITED TIME AS POSTED                                          2107\n",
       "PARK IN ACCESSIBLE PARKING SPACE/NO PERMIT                              1698\n",
       "PARK AT EXPIRED METER                                                   1653\n",
       "OBSTRUCT ACCESS AISLE                                                   1419\n",
       "PARK DETACHED TRAILER ON STREET                                          976\n",
       "PARK PROHIBITED TIME AS POSTED                                           684\n",
       "PARK ON AN AUTHORIZED RESIDENTIAL ONLY AREA WITHOUT AUTHORIZATION        619\n",
       "PARK AND EXCEED TIME DISPLAYED ON PAY AND DISPLAY RECEIPT                592\n",
       "Park, stand or stop in an unauthorized area                              581\n",
       "PARK IMMOBILE VEHICLE                                                    544\n",
       "PARK WITHIN 9M OF INTERSECTION                                           538\n",
       "PARK IN FRONT OF DRIVEWAY                                                468\n",
       "PARK AND EXCEED MAXIMUM TIME PERMITTED IN PAY AND DISPLAY LOCATION       455\n",
       "OBSTRUCTING TRAFFIC                                                      315\n",
       "PARK IN EXCESS OF POSTED TIME LIMIT                                      193\n",
       "PARK/STOP IN TAXI ZONE                                                   158\n",
       "PARK/STOP IN BICYCLE LANE                                                125\n",
       "FAIL TO PARK WITHIN DESIGNATED SPACE                                      98\n",
       "PARK ON MUNICIPAL LANEWAY                                                 64\n",
       "PARK ACCESSIBLE PARKING SPACE ON STREET/NO PERMIT                         50\n",
       "PARK AT BAGGED PAY AND DISPLAY MACHINE                                    48\n",
       "PARK AND EXCEED MAXIMUM TIME PERMITTED ON PAY AND DISPLAY RECEIPT         30\n",
       "                                                                          29\n",
       "PARK DISPLAY ILLEGIBLE PAY AND DISPLAY RECEIPT                            26\n",
       "STOP VEHICLE ON HIGHWAY CONTROLLED BY BAGGED PARKING METER                25\n",
       "PARK IN NO PARKING LOADING ZONE                                           23\n",
       "PARK AT PAY AND DISPLAY LOT AND EXCEED MAXIMUM TIME PERMITTED             16\n",
       "PARK IN FRONT OF LANEWAY                                                   6\n",
       "PARK ON PEDESTRIAN CROSSOVER                                               6\n",
       "PARK ON CROSSWALK                                                          5\n",
       "STAND IN NO PARKING LOADING ZONE                                           4\n",
       "PARK IN TAXICAB STAND                                                      1\n",
       "Name: count, dtype: int64"
      ]
     },
     "execution_count": 19,
     "metadata": {},
     "output_type": "execute_result"
    }
   ],
   "source": [
    "df[\"VIODESCRIPTION\"].value_counts(dropna=False)"
   ]
  },
  {
   "cell_type": "markdown",
   "metadata": {},
   "source": [
    "### VIOFINE"
   ]
  },
  {
   "cell_type": "code",
   "execution_count": 20,
   "metadata": {},
   "outputs": [
    {
     "data": {
      "text/plain": [
       "VIOFINE\n",
       " 35.0     220540\n",
       " 40.0      88490\n",
       " 30.0      38055\n",
       " 100.0     12577\n",
       " 20.0       8810\n",
       "           ...  \n",
       "-19.0          1\n",
       " 19.0          1\n",
       " 333.0         1\n",
       " 15.5          1\n",
       " 240.0         1\n",
       "Name: count, Length: 80, dtype: int64"
      ]
     },
     "execution_count": 20,
     "metadata": {},
     "output_type": "execute_result"
    }
   ],
   "source": [
    "df[\"VIOFINE\"].value_counts(dropna=False)"
   ]
  },
  {
   "cell_type": "code",
   "execution_count": 21,
   "metadata": {},
   "outputs": [
    {
     "name": "stdout",
     "output_type": "stream",
     "text": [
      "Min fine: $-19.00\n",
      "Max fine: $350.00\n"
     ]
    }
   ],
   "source": [
    "print(f\"Min fine: ${df[\"VIOFINE\"].min():.2f}\")\n",
    "print(f\"Max fine: ${df[\"VIOFINE\"].max():.2f}\")"
   ]
  },
  {
   "cell_type": "markdown",
   "metadata": {},
   "source": [
    "Why is the minimum fine negatve? Is that just an anomaly?\n",
    "\n",
    "Apparently not..."
   ]
  },
  {
   "cell_type": "code",
   "execution_count": 22,
   "metadata": {},
   "outputs": [
    {
     "data": {
      "text/html": [
       "<div>\n",
       "<style scoped>\n",
       "    .dataframe tbody tr th:only-of-type {\n",
       "        vertical-align: middle;\n",
       "    }\n",
       "\n",
       "    .dataframe tbody tr th {\n",
       "        vertical-align: top;\n",
       "    }\n",
       "\n",
       "    .dataframe thead th {\n",
       "        text-align: right;\n",
       "    }\n",
       "</style>\n",
       "<table border=\"1\" class=\"dataframe\">\n",
       "  <thead>\n",
       "    <tr style=\"text-align: right;\">\n",
       "      <th></th>\n",
       "      <th>X</th>\n",
       "      <th>Y</th>\n",
       "      <th>OBJECTID</th>\n",
       "      <th>ADDRESS</th>\n",
       "      <th>ISSUEDATE</th>\n",
       "      <th>LICSTATEPROV</th>\n",
       "      <th>VIOCODE</th>\n",
       "      <th>VIODESCRIPTION</th>\n",
       "      <th>VIOFINE</th>\n",
       "      <th>VOIDSTATUS</th>\n",
       "      <th>ISSUETIME</th>\n",
       "      <th>ISSUENO_MASK</th>\n",
       "    </tr>\n",
       "  </thead>\n",
       "  <tbody>\n",
       "    <tr>\n",
       "      <th>13785</th>\n",
       "      <td>-8.878343e+06</td>\n",
       "      <td>5.417518e+06</td>\n",
       "      <td>182106</td>\n",
       "      <td>100 JOHN ST</td>\n",
       "      <td>2014/08/16 00:00:00+00</td>\n",
       "      <td>ON</td>\n",
       "      <td>93-93 Sect 46(1)</td>\n",
       "      <td>PARK ON PRIVATE PROPERTY</td>\n",
       "      <td>-15.0</td>\n",
       "      <td>NO</td>\n",
       "      <td>1899/12/30 19:06:00+00</td>\n",
       "      <td>XXX8135</td>\n",
       "    </tr>\n",
       "    <tr>\n",
       "      <th>120663</th>\n",
       "      <td>-8.878684e+06</td>\n",
       "      <td>5.419944e+06</td>\n",
       "      <td>288985</td>\n",
       "      <td>HANSEN RD N NEAR 388</td>\n",
       "      <td>2014/06/03 00:00:00+00</td>\n",
       "      <td>ON</td>\n",
       "      <td>93-93 Sect 55(1)</td>\n",
       "      <td>PARK UNLICENSED VEHICLE</td>\n",
       "      <td>-5.0</td>\n",
       "      <td>NO</td>\n",
       "      <td>1899/12/30 15:26:00+00</td>\n",
       "      <td>XXX80857</td>\n",
       "    </tr>\n",
       "    <tr>\n",
       "      <th>125808</th>\n",
       "      <td>-8.877387e+06</td>\n",
       "      <td>5.422447e+06</td>\n",
       "      <td>294130</td>\n",
       "      <td>NEWBRIDGE CRES</td>\n",
       "      <td>2014/07/07 00:00:00+00</td>\n",
       "      <td>ON</td>\n",
       "      <td>93-93 Sect 42(11)</td>\n",
       "      <td>PARKING 2:00 AM TO 6:00 AM PROHIBITED</td>\n",
       "      <td>-15.0</td>\n",
       "      <td>NO</td>\n",
       "      <td>1899/12/30 04:57:00+00</td>\n",
       "      <td>XXX90300</td>\n",
       "    </tr>\n",
       "    <tr>\n",
       "      <th>129166</th>\n",
       "      <td>-8.880140e+06</td>\n",
       "      <td>5.426534e+06</td>\n",
       "      <td>297488</td>\n",
       "      <td>STARHILL CRES</td>\n",
       "      <td>2014/07/31 00:00:00+00</td>\n",
       "      <td>ON</td>\n",
       "      <td>93-93 Sect 42(11)</td>\n",
       "      <td>PARKING 2:00 AM TO 6:00 AM PROHIBITED</td>\n",
       "      <td>-5.0</td>\n",
       "      <td>NO</td>\n",
       "      <td>1899/12/30 04:45:00+00</td>\n",
       "      <td>XXX93239</td>\n",
       "    </tr>\n",
       "    <tr>\n",
       "      <th>129345</th>\n",
       "      <td>-8.880140e+06</td>\n",
       "      <td>5.426534e+06</td>\n",
       "      <td>297667</td>\n",
       "      <td>STARHILL CRES</td>\n",
       "      <td>2014/08/01 00:00:00+00</td>\n",
       "      <td>ON</td>\n",
       "      <td>93-93 Sect 42(11)</td>\n",
       "      <td>PARKING 2:00 AM TO 6:00 AM PROHIBITED</td>\n",
       "      <td>-5.0</td>\n",
       "      <td>NO</td>\n",
       "      <td>1899/12/30 04:50:00+00</td>\n",
       "      <td>XXX94015</td>\n",
       "    </tr>\n",
       "    <tr>\n",
       "      <th>131002</th>\n",
       "      <td>-8.886227e+06</td>\n",
       "      <td>5.419378e+06</td>\n",
       "      <td>299324</td>\n",
       "      <td>BRAMFIELD ST</td>\n",
       "      <td>2014/08/14 00:00:00+00</td>\n",
       "      <td>ON</td>\n",
       "      <td>93-93 Sect 42(11)</td>\n",
       "      <td>PARKING 2:00 AM TO 6:00 AM PROHIBITED</td>\n",
       "      <td>-15.0</td>\n",
       "      <td>NO</td>\n",
       "      <td>1899/12/30 03:38:00+00</td>\n",
       "      <td>XXX83332</td>\n",
       "    </tr>\n",
       "    <tr>\n",
       "      <th>131355</th>\n",
       "      <td>-8.872503e+06</td>\n",
       "      <td>5.424875e+06</td>\n",
       "      <td>299677</td>\n",
       "      <td>QUEEN ST E NEAR 12</td>\n",
       "      <td>2014/08/16 00:00:00+00</td>\n",
       "      <td>ON</td>\n",
       "      <td>93-93 Sect 43(2)</td>\n",
       "      <td>STOP IN PROHIBITED AREA</td>\n",
       "      <td>-19.0</td>\n",
       "      <td>NO</td>\n",
       "      <td>1899/12/30 14:51:00+00</td>\n",
       "      <td>XXX92269</td>\n",
       "    </tr>\n",
       "    <tr>\n",
       "      <th>131561</th>\n",
       "      <td>-8.878875e+06</td>\n",
       "      <td>5.419854e+06</td>\n",
       "      <td>299883</td>\n",
       "      <td>GREENE DR NEAR 44</td>\n",
       "      <td>2014/08/18 00:00:00+00</td>\n",
       "      <td>ON</td>\n",
       "      <td>93-93 Sect 55(1)</td>\n",
       "      <td>PARK UNLICENSED VEHICLE</td>\n",
       "      <td>-15.0</td>\n",
       "      <td>NO</td>\n",
       "      <td>1899/12/30 03:36:00+00</td>\n",
       "      <td>XXX94935</td>\n",
       "    </tr>\n",
       "    <tr>\n",
       "      <th>133787</th>\n",
       "      <td>-8.875147e+06</td>\n",
       "      <td>5.423404e+06</td>\n",
       "      <td>302109</td>\n",
       "      <td>CENTRAL PARK DR AT 150</td>\n",
       "      <td>2014/09/02 00:00:00+00</td>\n",
       "      <td>ON</td>\n",
       "      <td>93-93 Sect 57(12)</td>\n",
       "      <td>PARK ON MUNICIPAL PROPERTY</td>\n",
       "      <td>-17.0</td>\n",
       "      <td>NO</td>\n",
       "      <td>1899/12/30 14:12:00+00</td>\n",
       "      <td>XXX87472</td>\n",
       "    </tr>\n",
       "    <tr>\n",
       "      <th>134272</th>\n",
       "      <td>-8.875112e+06</td>\n",
       "      <td>5.427283e+06</td>\n",
       "      <td>302594</td>\n",
       "      <td>TRAILSIDE WALK</td>\n",
       "      <td>2014/09/06 00:00:00+00</td>\n",
       "      <td>ON</td>\n",
       "      <td>93-93 Sect 42(11)</td>\n",
       "      <td>PARKING 2:00 AM TO 6:00 AM PROHIBITED</td>\n",
       "      <td>-17.0</td>\n",
       "      <td>NO</td>\n",
       "      <td>1899/12/30 04:11:00+00</td>\n",
       "      <td>XXX61154</td>\n",
       "    </tr>\n",
       "    <tr>\n",
       "      <th>135160</th>\n",
       "      <td>-8.875112e+06</td>\n",
       "      <td>5.427283e+06</td>\n",
       "      <td>303482</td>\n",
       "      <td>TRAILSIDE WALK</td>\n",
       "      <td>2014/09/11 00:00:00+00</td>\n",
       "      <td>ON</td>\n",
       "      <td>93-93 Sect 42(11)</td>\n",
       "      <td>PARKING 2:00 AM TO 6:00 AM PROHIBITED</td>\n",
       "      <td>-17.0</td>\n",
       "      <td>NO</td>\n",
       "      <td>1899/12/30 05:13:00+00</td>\n",
       "      <td>XXX00470</td>\n",
       "    </tr>\n",
       "    <tr>\n",
       "      <th>140849</th>\n",
       "      <td>-8.875576e+06</td>\n",
       "      <td>5.421827e+06</td>\n",
       "      <td>309171</td>\n",
       "      <td>HETHERINGTON PL NEAR 20</td>\n",
       "      <td>2014/10/18 00:00:00+00</td>\n",
       "      <td>ON</td>\n",
       "      <td>93-93 Sect 47(5)</td>\n",
       "      <td>PARK IN A DESIGNATED FIRE ROUTE</td>\n",
       "      <td>-17.0</td>\n",
       "      <td>NO</td>\n",
       "      <td>1899/12/30 20:08:00+00</td>\n",
       "      <td>XXX07851</td>\n",
       "    </tr>\n",
       "    <tr>\n",
       "      <th>141407</th>\n",
       "      <td>-8.876253e+06</td>\n",
       "      <td>5.411543e+06</td>\n",
       "      <td>309729</td>\n",
       "      <td>RAY LAWSON BLVD NEAR 630</td>\n",
       "      <td>2014/10/22 00:00:00+00</td>\n",
       "      <td>ON</td>\n",
       "      <td>93-93 Sect 43(2)</td>\n",
       "      <td>STOP IN PROHIBITED AREA</td>\n",
       "      <td>-17.0</td>\n",
       "      <td>NO</td>\n",
       "      <td>1899/12/30 15:21:00+00</td>\n",
       "      <td>XXX74684</td>\n",
       "    </tr>\n",
       "    <tr>\n",
       "      <th>142290</th>\n",
       "      <td>-8.875222e+06</td>\n",
       "      <td>5.429761e+06</td>\n",
       "      <td>310612</td>\n",
       "      <td>BLAIRWOOD CRT</td>\n",
       "      <td>2014/10/31 00:00:00+00</td>\n",
       "      <td>ON</td>\n",
       "      <td>93-93 Sect 42(11)</td>\n",
       "      <td>PARKING 2:00 AM TO 6:00 AM PROHIBITED</td>\n",
       "      <td>-17.0</td>\n",
       "      <td>NO</td>\n",
       "      <td>1899/12/30 03:20:00+00</td>\n",
       "      <td>XXX09522</td>\n",
       "    </tr>\n",
       "    <tr>\n",
       "      <th>143781</th>\n",
       "      <td>-8.877179e+06</td>\n",
       "      <td>5.422421e+06</td>\n",
       "      <td>312103</td>\n",
       "      <td>LAWNDALE CRES NEAR 7</td>\n",
       "      <td>2014/11/14 00:00:00+00</td>\n",
       "      <td>ON</td>\n",
       "      <td>93-93 Sect 42(8)</td>\n",
       "      <td>PARK IN EXCESS OF 3 HOURS</td>\n",
       "      <td>-5.0</td>\n",
       "      <td>NO</td>\n",
       "      <td>1899/12/30 00:41:00+00</td>\n",
       "      <td>XXX09979</td>\n",
       "    </tr>\n",
       "    <tr>\n",
       "      <th>162982</th>\n",
       "      <td>-8.881696e+06</td>\n",
       "      <td>5.422088e+06</td>\n",
       "      <td>331304</td>\n",
       "      <td>DONNA DR</td>\n",
       "      <td>2015/04/15 00:00:00+00</td>\n",
       "      <td>ON</td>\n",
       "      <td>93-93 Sect 42(11)</td>\n",
       "      <td>PARKING 2:00 AM TO 6:00 AM PROHIBITED</td>\n",
       "      <td>-2.0</td>\n",
       "      <td>NO</td>\n",
       "      <td>1899/12/30 04:47:00+00</td>\n",
       "      <td>XXX30774</td>\n",
       "    </tr>\n",
       "  </tbody>\n",
       "</table>\n",
       "</div>"
      ],
      "text/plain": [
       "                   X             Y  OBJECTID                   ADDRESS  \\\n",
       "13785  -8.878343e+06  5.417518e+06    182106               100 JOHN ST   \n",
       "120663 -8.878684e+06  5.419944e+06    288985      HANSEN RD N NEAR 388   \n",
       "125808 -8.877387e+06  5.422447e+06    294130            NEWBRIDGE CRES   \n",
       "129166 -8.880140e+06  5.426534e+06    297488             STARHILL CRES   \n",
       "129345 -8.880140e+06  5.426534e+06    297667             STARHILL CRES   \n",
       "131002 -8.886227e+06  5.419378e+06    299324              BRAMFIELD ST   \n",
       "131355 -8.872503e+06  5.424875e+06    299677        QUEEN ST E NEAR 12   \n",
       "131561 -8.878875e+06  5.419854e+06    299883         GREENE DR NEAR 44   \n",
       "133787 -8.875147e+06  5.423404e+06    302109    CENTRAL PARK DR AT 150   \n",
       "134272 -8.875112e+06  5.427283e+06    302594            TRAILSIDE WALK   \n",
       "135160 -8.875112e+06  5.427283e+06    303482            TRAILSIDE WALK   \n",
       "140849 -8.875576e+06  5.421827e+06    309171   HETHERINGTON PL NEAR 20   \n",
       "141407 -8.876253e+06  5.411543e+06    309729  RAY LAWSON BLVD NEAR 630   \n",
       "142290 -8.875222e+06  5.429761e+06    310612             BLAIRWOOD CRT   \n",
       "143781 -8.877179e+06  5.422421e+06    312103      LAWNDALE CRES NEAR 7   \n",
       "162982 -8.881696e+06  5.422088e+06    331304                  DONNA DR   \n",
       "\n",
       "                     ISSUEDATE LICSTATEPROV            VIOCODE  \\\n",
       "13785   2014/08/16 00:00:00+00           ON   93-93 Sect 46(1)   \n",
       "120663  2014/06/03 00:00:00+00           ON   93-93 Sect 55(1)   \n",
       "125808  2014/07/07 00:00:00+00           ON  93-93 Sect 42(11)   \n",
       "129166  2014/07/31 00:00:00+00           ON  93-93 Sect 42(11)   \n",
       "129345  2014/08/01 00:00:00+00           ON  93-93 Sect 42(11)   \n",
       "131002  2014/08/14 00:00:00+00           ON  93-93 Sect 42(11)   \n",
       "131355  2014/08/16 00:00:00+00           ON   93-93 Sect 43(2)   \n",
       "131561  2014/08/18 00:00:00+00           ON   93-93 Sect 55(1)   \n",
       "133787  2014/09/02 00:00:00+00           ON  93-93 Sect 57(12)   \n",
       "134272  2014/09/06 00:00:00+00           ON  93-93 Sect 42(11)   \n",
       "135160  2014/09/11 00:00:00+00           ON  93-93 Sect 42(11)   \n",
       "140849  2014/10/18 00:00:00+00           ON   93-93 Sect 47(5)   \n",
       "141407  2014/10/22 00:00:00+00           ON   93-93 Sect 43(2)   \n",
       "142290  2014/10/31 00:00:00+00           ON  93-93 Sect 42(11)   \n",
       "143781  2014/11/14 00:00:00+00           ON   93-93 Sect 42(8)   \n",
       "162982  2015/04/15 00:00:00+00           ON  93-93 Sect 42(11)   \n",
       "\n",
       "                               VIODESCRIPTION  VIOFINE VOIDSTATUS  \\\n",
       "13785                PARK ON PRIVATE PROPERTY    -15.0         NO   \n",
       "120663                PARK UNLICENSED VEHICLE     -5.0         NO   \n",
       "125808  PARKING 2:00 AM TO 6:00 AM PROHIBITED    -15.0         NO   \n",
       "129166  PARKING 2:00 AM TO 6:00 AM PROHIBITED     -5.0         NO   \n",
       "129345  PARKING 2:00 AM TO 6:00 AM PROHIBITED     -5.0         NO   \n",
       "131002  PARKING 2:00 AM TO 6:00 AM PROHIBITED    -15.0         NO   \n",
       "131355                STOP IN PROHIBITED AREA    -19.0         NO   \n",
       "131561                PARK UNLICENSED VEHICLE    -15.0         NO   \n",
       "133787             PARK ON MUNICIPAL PROPERTY    -17.0         NO   \n",
       "134272  PARKING 2:00 AM TO 6:00 AM PROHIBITED    -17.0         NO   \n",
       "135160  PARKING 2:00 AM TO 6:00 AM PROHIBITED    -17.0         NO   \n",
       "140849        PARK IN A DESIGNATED FIRE ROUTE    -17.0         NO   \n",
       "141407                STOP IN PROHIBITED AREA    -17.0         NO   \n",
       "142290  PARKING 2:00 AM TO 6:00 AM PROHIBITED    -17.0         NO   \n",
       "143781              PARK IN EXCESS OF 3 HOURS     -5.0         NO   \n",
       "162982  PARKING 2:00 AM TO 6:00 AM PROHIBITED     -2.0         NO   \n",
       "\n",
       "                     ISSUETIME ISSUENO_MASK  \n",
       "13785   1899/12/30 19:06:00+00      XXX8135  \n",
       "120663  1899/12/30 15:26:00+00     XXX80857  \n",
       "125808  1899/12/30 04:57:00+00     XXX90300  \n",
       "129166  1899/12/30 04:45:00+00     XXX93239  \n",
       "129345  1899/12/30 04:50:00+00     XXX94015  \n",
       "131002  1899/12/30 03:38:00+00     XXX83332  \n",
       "131355  1899/12/30 14:51:00+00     XXX92269  \n",
       "131561  1899/12/30 03:36:00+00     XXX94935  \n",
       "133787  1899/12/30 14:12:00+00     XXX87472  \n",
       "134272  1899/12/30 04:11:00+00     XXX61154  \n",
       "135160  1899/12/30 05:13:00+00     XXX00470  \n",
       "140849  1899/12/30 20:08:00+00     XXX07851  \n",
       "141407  1899/12/30 15:21:00+00     XXX74684  \n",
       "142290  1899/12/30 03:20:00+00     XXX09522  \n",
       "143781  1899/12/30 00:41:00+00     XXX09979  \n",
       "162982  1899/12/30 04:47:00+00     XXX30774  "
      ]
     },
     "execution_count": 22,
     "metadata": {},
     "output_type": "execute_result"
    }
   ],
   "source": [
    "df[df[\"VIOFINE\"] < 0]"
   ]
  },
  {
   "cell_type": "markdown",
   "metadata": {},
   "source": [
    "What about $0 fines? Are those possible/common?\n",
    "\n",
    "Yes, there are a lot of $0 parking tickets"
   ]
  },
  {
   "cell_type": "code",
   "execution_count": 23,
   "metadata": {},
   "outputs": [
    {
     "data": {
      "text/plain": [
       "2473"
      ]
     },
     "execution_count": 23,
     "metadata": {},
     "output_type": "execute_result"
    }
   ],
   "source": [
    "len(df[df[\"VIOFINE\"] == 0])"
   ]
  },
  {
   "cell_type": "code",
   "execution_count": null,
   "metadata": {},
   "outputs": [],
   "source": []
  }
 ],
 "metadata": {
  "kernelspec": {
   "display_name": "btowntickets",
   "language": "python",
   "name": "python3"
  },
  "language_info": {
   "codemirror_mode": {
    "name": "ipython",
    "version": 3
   },
   "file_extension": ".py",
   "mimetype": "text/x-python",
   "name": "python",
   "nbconvert_exporter": "python",
   "pygments_lexer": "ipython3",
   "version": "3.12.0"
  }
 },
 "nbformat": 4,
 "nbformat_minor": 2
}
