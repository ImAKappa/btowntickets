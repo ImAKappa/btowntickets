{
 "cells": [
  {
   "cell_type": "markdown",
   "metadata": {},
   "source": [
    "# BTown Tickets\n",
    "\n",
    "> An analysis of parking tickets in Brampton, Ontario"
   ]
  },
  {
   "cell_type": "markdown",
   "metadata": {},
   "source": [
    "## Motivating Questions\n",
    "\n",
    "### Personal interest\n",
    "\n",
    "I drive regularly in Brampton, so I want to know:\n",
    "\n",
    "- Where are the most ticketed places in Brampton?\n",
    "  - Why are they the most ticketed places?\n",
    "\n",
    "- What are the most common reasons for parking tickets in Brampton? The rarest?\n",
    "  - What are the most expensive offenses I could commit? The cheapest?\n",
    "    - Should I expect the fines to vary for the same kind of offense? And by how much\n",
    "  - What kinds of parking violations generate the most revenue for the city?\n",
    "\n",
    "- What times of the year has the greatest volume of tickets? The least?\n",
    "  - Are there seasonal/holiday patterns in parking offenses?\n",
    "  - Did Brampton's parking violation behaviour get better or worse from 2013 to 2018? (the period of the dataset)\n",
    "  - How frequently are Bramptonians getting parking tickets?\n",
    "\n",
    "\n",
    "### Story: Brampton's driving reputation\n",
    "\n",
    "Brampton drivers have a bad reputation (as of 2024) (CITATION?). Does this reputation hold for Brampton's parking habits?\n",
    "\n",
    "- How does Brampton compare to other cities (particularly Vaughn, Toronto, and Mississauga), in terms of:\n",
    "  - Volume of tickets (proportional to driving population, active police force, etc.)\n",
    "  - Severity of penalties/fines\n",
    "  - Severity of the nature of offenses\n",
    "  - Frequency of tickets"
   ]
  },
  {
   "cell_type": "markdown",
   "metadata": {},
   "source": [
    "## Imports"
   ]
  },
  {
   "cell_type": "code",
   "execution_count": 1,
   "metadata": {},
   "outputs": [],
   "source": [
    "from pathlib import Path\n",
    "import locale\n",
    "import pandas as pd\n",
    "import numpy as np\n",
    "\n",
    "from btowntickets import utils"
   ]
  },
  {
   "cell_type": "code",
   "execution_count": 2,
   "metadata": {},
   "outputs": [
    {
     "data": {
      "text/plain": [
       "'English_Canada.1252'"
      ]
     },
     "execution_count": 2,
     "metadata": {},
     "output_type": "execute_result"
    }
   ],
   "source": [
    "# Config\n",
    "locale.setlocale(locale.LC_ALL, '')"
   ]
  },
  {
   "cell_type": "markdown",
   "metadata": {},
   "source": [
    "## Load Data"
   ]
  },
  {
   "cell_type": "markdown",
   "metadata": {},
   "source": [
    "Convert to parquet format (if not already!)\n",
    "\n",
    "- It's more space efficient than `.csv`\n",
    "- It can store type information\n",
    "- It loads faster into memory\n",
    "\n",
    "[Apache Parquet](https://parquet.apache.org/)"
   ]
  },
  {
   "cell_type": "code",
   "execution_count": 3,
   "metadata": {},
   "outputs": [],
   "source": [
    "def clean(df: pd.DataFrame) -> pd.DataFrame:\n",
    "    \"\"\"Clean the parking tickets dataset\"\"\"\n",
    "    # For now, we remove tickets missing either an issue date or issue time\n",
    "    df = df.dropna(axis=\"index\", how=\"any\", subset=[\"ISSUEDATE\", \"ISSUETIME\"])\n",
    "\n",
    "    # Drop duplicates\n",
    "    df = df[~df.duplicated()]\n",
    "    return df"
   ]
  },
  {
   "cell_type": "code",
   "execution_count": 4,
   "metadata": {},
   "outputs": [
    {
     "name": "stdout",
     "output_type": "stream",
     "text": [
      "Loaded .csv\n",
      "Cleaned df\n",
      "Saved .parquet\n"
     ]
    }
   ],
   "source": [
    "df = None\n",
    "CLEAN_DATA = Path(\"../data/clean/Penalty_Notices-Brampton.parquet\")\n",
    "try:\n",
    "    df = utils.LoadProcess(\n",
    "        data_loader=utils.ParquetLoader(CLEAN_DATA)\n",
    "    ).run()\n",
    "    print(f\"Loaded '{CLEAN_DATA.name}'\")\n",
    "except FileNotFoundError as err:\n",
    "    df_raw = utils.LoadProcess(\n",
    "        data_loader=utils.CSVLoader(Path(\"../data/raw/Penalty_Notices-Parking_Tickets-2013_2018.csv\"))\n",
    "    ).run()\n",
    "    print(\"Loaded .csv\")\n",
    "    df = clean(df_raw)\n",
    "    print(\"Cleaned df\")\n",
    "    df.to_parquet(CLEAN_DATA, engine=\"pyarrow\")\n",
    "    print(\"Saved .parquet\")"
   ]
  },
  {
   "cell_type": "code",
   "execution_count": 5,
   "metadata": {},
   "outputs": [
    {
     "data": {
      "text/plain": [
       "X                             Float64\n",
       "Y                             Float64\n",
       "OBJECTID                        Int64\n",
       "ADDRESS                        object\n",
       "ISSUEDATE         datetime64[ns, UTC]\n",
       "LICSTATEPROV                 category\n",
       "VIODESCRIPTION               category\n",
       "VIOFINE                       Float64\n",
       "VOIDSTATUS                   category\n",
       "ISSUETIME         datetime64[ns, UTC]\n",
       "dtype: object"
      ]
     },
     "execution_count": 5,
     "metadata": {},
     "output_type": "execute_result"
    }
   ],
   "source": [
    "df.dtypes"
   ]
  },
  {
   "cell_type": "markdown",
   "metadata": {},
   "source": [
    "# High-Level Metrics"
   ]
  },
  {
   "cell_type": "markdown",
   "metadata": {},
   "source": [
    "Totals"
   ]
  },
  {
   "cell_type": "code",
   "execution_count": 12,
   "metadata": {},
   "outputs": [
    {
     "name": "stdout",
     "output_type": "stream",
     "text": [
      "376668 tickets issued over the following period:\n",
      "min    2013-01-01 00:00:00+00:00\n",
      "max    2018-07-27 00:00:00+00:00\n",
      "Name: ISSUEDATE, dtype: object\n"
     ]
    }
   ],
   "source": [
    "print(f\"{len(df)} tickets issued over the following period:\")\n",
    "print(df[\"ISSUEDATE\"].describe().loc[[\"min\", \"max\"]])"
   ]
  },
  {
   "cell_type": "code",
   "execution_count": 14,
   "metadata": {},
   "outputs": [
    {
     "data": {
      "text/plain": [
       "VOIDSTATUS\n",
       "NO    314624\n",
       "XX     56477\n",
       "VO      5567\n",
       "Name: count, dtype: int64"
      ]
     },
     "execution_count": 14,
     "metadata": {},
     "output_type": "execute_result"
    }
   ],
   "source": [
    "# How many voided parking tickets?\n",
    "df[\"VOIDSTATUS\"].value_counts(dropna=False)"
   ]
  },
  {
   "cell_type": "code",
   "execution_count": null,
   "metadata": {},
   "outputs": [],
   "source": [
    "# TODO: Figure out what 'XX' means. Is this supposed to mean 'not applicable'?"
   ]
  },
  {
   "cell_type": "markdown",
   "metadata": {},
   "source": [
    "For the rest of our analysis, let's look at non-void tickets"
   ]
  },
  {
   "cell_type": "code",
   "execution_count": 16,
   "metadata": {},
   "outputs": [
    {
     "data": {
      "text/plain": [
       "VOIDSTATUS\n",
       "NO    314624\n",
       "VO         0\n",
       "XX         0\n",
       "Name: count, dtype: int64"
      ]
     },
     "execution_count": 16,
     "metadata": {},
     "output_type": "execute_result"
    }
   ],
   "source": [
    "nonvoid = df.loc[df[\"VOIDSTATUS\"] == \"NO\"]\n",
    "nonvoid[\"VOIDSTATUS\"].value_counts(dropna=False)"
   ]
  },
  {
   "cell_type": "markdown",
   "metadata": {},
   "source": [
    "## Why are people getting tickets? And how much do they pay?"
   ]
  },
  {
   "cell_type": "code",
   "execution_count": null,
   "metadata": {},
   "outputs": [],
   "source": [
    "# TODO: Produce visuals instead of visuals. Consider using seaborn, plotly, etc."
   ]
  },
  {
   "cell_type": "code",
   "execution_count": 29,
   "metadata": {},
   "outputs": [
    {
     "data": {
      "text/html": [
       "<div>\n",
       "<style scoped>\n",
       "    .dataframe tbody tr th:only-of-type {\n",
       "        vertical-align: middle;\n",
       "    }\n",
       "\n",
       "    .dataframe tbody tr th {\n",
       "        vertical-align: top;\n",
       "    }\n",
       "\n",
       "    .dataframe thead th {\n",
       "        text-align: right;\n",
       "    }\n",
       "</style>\n",
       "<table border=\"1\" class=\"dataframe\">\n",
       "  <thead>\n",
       "    <tr style=\"text-align: right;\">\n",
       "      <th></th>\n",
       "      <th>VIODESCRIPTION</th>\n",
       "      <th>count</th>\n",
       "      <th>Fine mean</th>\n",
       "      <th>Fine std</th>\n",
       "      <th>Fine min</th>\n",
       "      <th>25%</th>\n",
       "      <th>50%</th>\n",
       "      <th>75%</th>\n",
       "      <th>Fine max</th>\n",
       "    </tr>\n",
       "  </thead>\n",
       "  <tbody>\n",
       "    <tr>\n",
       "      <th>3</th>\n",
       "      <td>PARK ACCESSIBLE PARKING SPACE ON STREET/NO PERMIT</td>\n",
       "      <td>44.0</td>\n",
       "      <td>305.795455</td>\n",
       "      <td>83.887682</td>\n",
       "      <td>90.0</td>\n",
       "      <td>350.0</td>\n",
       "      <td>350.0</td>\n",
       "      <td>350.0</td>\n",
       "      <td>350.0</td>\n",
       "    </tr>\n",
       "    <tr>\n",
       "      <th>15</th>\n",
       "      <td>PARK IN ACCESSIBLE PARKING SPACE/NO PERMIT</td>\n",
       "      <td>1346.0</td>\n",
       "      <td>249.919019</td>\n",
       "      <td>119.393711</td>\n",
       "      <td>0.0</td>\n",
       "      <td>175.0</td>\n",
       "      <td>350.0</td>\n",
       "      <td>350.0</td>\n",
       "      <td>350.0</td>\n",
       "    </tr>\n",
       "    <tr>\n",
       "      <th>1</th>\n",
       "      <td>OBSTRUCT ACCESS AISLE</td>\n",
       "      <td>1269.0</td>\n",
       "      <td>192.487786</td>\n",
       "      <td>100.738257</td>\n",
       "      <td>0.0</td>\n",
       "      <td>150.0</td>\n",
       "      <td>150.0</td>\n",
       "      <td>300.0</td>\n",
       "      <td>350.0</td>\n",
       "    </tr>\n",
       "    <tr>\n",
       "      <th>21</th>\n",
       "      <td>PARK LARGE MOTOR VEHICLE ON STREET</td>\n",
       "      <td>2628.0</td>\n",
       "      <td>106.341134</td>\n",
       "      <td>27.456173</td>\n",
       "      <td>0.0</td>\n",
       "      <td>100.0</td>\n",
       "      <td>125.0</td>\n",
       "      <td>125.0</td>\n",
       "      <td>125.0</td>\n",
       "    </tr>\n",
       "    <tr>\n",
       "      <th>33</th>\n",
       "      <td>PARK WITHIN 3M OF FIRE HYDRANT</td>\n",
       "      <td>3805.0</td>\n",
       "      <td>90.479632</td>\n",
       "      <td>23.173542</td>\n",
       "      <td>0.0</td>\n",
       "      <td>100.0</td>\n",
       "      <td>100.0</td>\n",
       "      <td>100.0</td>\n",
       "      <td>100.0</td>\n",
       "    </tr>\n",
       "    <tr>\n",
       "      <th>13</th>\n",
       "      <td>PARK IN A DESIGNATED FIRE ROUTE</td>\n",
       "      <td>9623.0</td>\n",
       "      <td>110.354567</td>\n",
       "      <td>39.194162</td>\n",
       "      <td>-17.0</td>\n",
       "      <td>100.0</td>\n",
       "      <td>100.0</td>\n",
       "      <td>150.0</td>\n",
       "      <td>150.0</td>\n",
       "    </tr>\n",
       "    <tr>\n",
       "      <th>39</th>\n",
       "      <td>STOP PROHIBITED TIME AS POSTED</td>\n",
       "      <td>1842.0</td>\n",
       "      <td>85.377307</td>\n",
       "      <td>28.22143</td>\n",
       "      <td>0.0</td>\n",
       "      <td>100.0</td>\n",
       "      <td>100.0</td>\n",
       "      <td>100.0</td>\n",
       "      <td>100.0</td>\n",
       "    </tr>\n",
       "    <tr>\n",
       "      <th>38</th>\n",
       "      <td>STOP IN PROHIBITED AREA</td>\n",
       "      <td>2297.0</td>\n",
       "      <td>86.145842</td>\n",
       "      <td>27.29579</td>\n",
       "      <td>-19.0</td>\n",
       "      <td>100.0</td>\n",
       "      <td>100.0</td>\n",
       "      <td>100.0</td>\n",
       "      <td>100.0</td>\n",
       "    </tr>\n",
       "    <tr>\n",
       "      <th>20</th>\n",
       "      <td>PARK INTERFERING WITH SNOW REMOVAL AND/OR WINT...</td>\n",
       "      <td>3153.0</td>\n",
       "      <td>68.914209</td>\n",
       "      <td>15.897066</td>\n",
       "      <td>0.0</td>\n",
       "      <td>75.0</td>\n",
       "      <td>75.0</td>\n",
       "      <td>75.0</td>\n",
       "      <td>75.0</td>\n",
       "    </tr>\n",
       "    <tr>\n",
       "      <th>46</th>\n",
       "      <td>STAND IN NO PARKING LOADING ZONE</td>\n",
       "      <td>4.0</td>\n",
       "      <td>50.0</td>\n",
       "      <td>0.0</td>\n",
       "      <td>50.0</td>\n",
       "      <td>50.0</td>\n",
       "      <td>50.0</td>\n",
       "      <td>50.0</td>\n",
       "      <td>50.0</td>\n",
       "    </tr>\n",
       "  </tbody>\n",
       "</table>\n",
       "</div>"
      ],
      "text/plain": [
       "                                       VIODESCRIPTION   count   Fine mean  \\\n",
       "3   PARK ACCESSIBLE PARKING SPACE ON STREET/NO PERMIT    44.0  305.795455   \n",
       "15         PARK IN ACCESSIBLE PARKING SPACE/NO PERMIT  1346.0  249.919019   \n",
       "1                               OBSTRUCT ACCESS AISLE  1269.0  192.487786   \n",
       "21                 PARK LARGE MOTOR VEHICLE ON STREET  2628.0  106.341134   \n",
       "33                     PARK WITHIN 3M OF FIRE HYDRANT  3805.0   90.479632   \n",
       "13                    PARK IN A DESIGNATED FIRE ROUTE  9623.0  110.354567   \n",
       "39                     STOP PROHIBITED TIME AS POSTED  1842.0   85.377307   \n",
       "38                            STOP IN PROHIBITED AREA  2297.0   86.145842   \n",
       "20  PARK INTERFERING WITH SNOW REMOVAL AND/OR WINT...  3153.0   68.914209   \n",
       "46                   STAND IN NO PARKING LOADING ZONE     4.0        50.0   \n",
       "\n",
       "      Fine std  Fine min    25%    50%    75%  Fine max  \n",
       "3    83.887682      90.0  350.0  350.0  350.0     350.0  \n",
       "15  119.393711       0.0  175.0  350.0  350.0     350.0  \n",
       "1   100.738257       0.0  150.0  150.0  300.0     350.0  \n",
       "21   27.456173       0.0  100.0  125.0  125.0     125.0  \n",
       "33   23.173542       0.0  100.0  100.0  100.0     100.0  \n",
       "13   39.194162     -17.0  100.0  100.0  150.0     150.0  \n",
       "39    28.22143       0.0  100.0  100.0  100.0     100.0  \n",
       "38    27.29579     -19.0  100.0  100.0  100.0     100.0  \n",
       "20   15.897066       0.0   75.0   75.0   75.0      75.0  \n",
       "46         0.0      50.0   50.0   50.0   50.0      50.0  "
      ]
     },
     "execution_count": 29,
     "metadata": {},
     "output_type": "execute_result"
    }
   ],
   "source": [
    "parking_ticket_reasons = nonvoid.groupby([\"VIODESCRIPTION\"], observed=True)[\"VIOFINE\"].describe()\\\n",
    "    .reset_index()\\\n",
    "    .rename(columns={\"mean\": \"Fine mean\", \"std\": \"Fine std\", \"min\": \"Fine min\", \"max\": \"Fine max\"})\\\n",
    "    .sort_values(by=\"50%\", ascending=False)\n",
    "parking_ticket_reasons.head(10)"
   ]
  },
  {
   "cell_type": "code",
   "execution_count": 48,
   "metadata": {},
   "outputs": [
    {
     "data": {
      "text/plain": [
       "count     314624.0\n",
       "mean     40.896573\n",
       "std      27.876275\n",
       "min          -19.0\n",
       "25%           35.0\n",
       "50%           35.0\n",
       "75%           40.0\n",
       "max          350.0\n",
       "Name: VIOFINE, dtype: Float64"
      ]
     },
     "execution_count": 48,
     "metadata": {},
     "output_type": "execute_result"
    }
   ],
   "source": [
    "# TODO: Figure out why are there negative values ???\n",
    "df[\"VIOFINE\"].describe()"
   ]
  },
  {
   "cell_type": "markdown",
   "metadata": {},
   "source": [
    "### Top 5 most expensive reasons for parking tickets"
   ]
  },
  {
   "cell_type": "code",
   "execution_count": 32,
   "metadata": {},
   "outputs": [
    {
     "data": {
      "text/html": [
       "<div>\n",
       "<style scoped>\n",
       "    .dataframe tbody tr th:only-of-type {\n",
       "        vertical-align: middle;\n",
       "    }\n",
       "\n",
       "    .dataframe tbody tr th {\n",
       "        vertical-align: top;\n",
       "    }\n",
       "\n",
       "    .dataframe thead th {\n",
       "        text-align: right;\n",
       "    }\n",
       "</style>\n",
       "<table border=\"1\" class=\"dataframe\">\n",
       "  <thead>\n",
       "    <tr style=\"text-align: right;\">\n",
       "      <th></th>\n",
       "      <th>VIODESCRIPTION</th>\n",
       "      <th>count</th>\n",
       "      <th>Fine mean</th>\n",
       "      <th>Fine std</th>\n",
       "      <th>Fine min</th>\n",
       "      <th>25%</th>\n",
       "      <th>50%</th>\n",
       "      <th>75%</th>\n",
       "      <th>Fine max</th>\n",
       "    </tr>\n",
       "  </thead>\n",
       "  <tbody>\n",
       "    <tr>\n",
       "      <th>3</th>\n",
       "      <td>PARK ACCESSIBLE PARKING SPACE ON STREET/NO PERMIT</td>\n",
       "      <td>44.0</td>\n",
       "      <td>305.795455</td>\n",
       "      <td>83.887682</td>\n",
       "      <td>90.0</td>\n",
       "      <td>350.0</td>\n",
       "      <td>350.0</td>\n",
       "      <td>350.0</td>\n",
       "      <td>350.0</td>\n",
       "    </tr>\n",
       "    <tr>\n",
       "      <th>1</th>\n",
       "      <td>OBSTRUCT ACCESS AISLE</td>\n",
       "      <td>1269.0</td>\n",
       "      <td>192.487786</td>\n",
       "      <td>100.738257</td>\n",
       "      <td>0.0</td>\n",
       "      <td>150.0</td>\n",
       "      <td>150.0</td>\n",
       "      <td>300.0</td>\n",
       "      <td>350.0</td>\n",
       "    </tr>\n",
       "    <tr>\n",
       "      <th>15</th>\n",
       "      <td>PARK IN ACCESSIBLE PARKING SPACE/NO PERMIT</td>\n",
       "      <td>1346.0</td>\n",
       "      <td>249.919019</td>\n",
       "      <td>119.393711</td>\n",
       "      <td>0.0</td>\n",
       "      <td>175.0</td>\n",
       "      <td>350.0</td>\n",
       "      <td>350.0</td>\n",
       "      <td>350.0</td>\n",
       "    </tr>\n",
       "    <tr>\n",
       "      <th>13</th>\n",
       "      <td>PARK IN A DESIGNATED FIRE ROUTE</td>\n",
       "      <td>9623.0</td>\n",
       "      <td>110.354567</td>\n",
       "      <td>39.194162</td>\n",
       "      <td>-17.0</td>\n",
       "      <td>100.0</td>\n",
       "      <td>100.0</td>\n",
       "      <td>150.0</td>\n",
       "      <td>150.0</td>\n",
       "    </tr>\n",
       "    <tr>\n",
       "      <th>29</th>\n",
       "      <td>PARK ON PRIVATE PROPERTY</td>\n",
       "      <td>49839.0</td>\n",
       "      <td>39.365808</td>\n",
       "      <td>3.924825</td>\n",
       "      <td>-15.0</td>\n",
       "      <td>40.0</td>\n",
       "      <td>40.0</td>\n",
       "      <td>40.0</td>\n",
       "      <td>150.0</td>\n",
       "    </tr>\n",
       "  </tbody>\n",
       "</table>\n",
       "</div>"
      ],
      "text/plain": [
       "                                       VIODESCRIPTION    count   Fine mean  \\\n",
       "3   PARK ACCESSIBLE PARKING SPACE ON STREET/NO PERMIT     44.0  305.795455   \n",
       "1                               OBSTRUCT ACCESS AISLE   1269.0  192.487786   \n",
       "15         PARK IN ACCESSIBLE PARKING SPACE/NO PERMIT   1346.0  249.919019   \n",
       "13                    PARK IN A DESIGNATED FIRE ROUTE   9623.0  110.354567   \n",
       "29                           PARK ON PRIVATE PROPERTY  49839.0   39.365808   \n",
       "\n",
       "      Fine std  Fine min    25%    50%    75%  Fine max  \n",
       "3    83.887682      90.0  350.0  350.0  350.0     350.0  \n",
       "1   100.738257       0.0  150.0  150.0  300.0     350.0  \n",
       "15  119.393711       0.0  175.0  350.0  350.0     350.0  \n",
       "13   39.194162     -17.0  100.0  100.0  150.0     150.0  \n",
       "29    3.924825     -15.0   40.0   40.0   40.0     150.0  "
      ]
     },
     "execution_count": 32,
     "metadata": {},
     "output_type": "execute_result"
    }
   ],
   "source": [
    "parking_ticket_reasons.sort_values(by=\"Fine max\", ascending=False).head(5)"
   ]
  },
  {
   "cell_type": "markdown",
   "metadata": {},
   "source": [
    "### Top 5 cheapest reasons for parking tickets"
   ]
  },
  {
   "cell_type": "code",
   "execution_count": 33,
   "metadata": {},
   "outputs": [
    {
     "data": {
      "text/html": [
       "<div>\n",
       "<style scoped>\n",
       "    .dataframe tbody tr th:only-of-type {\n",
       "        vertical-align: middle;\n",
       "    }\n",
       "\n",
       "    .dataframe tbody tr th {\n",
       "        vertical-align: top;\n",
       "    }\n",
       "\n",
       "    .dataframe thead th {\n",
       "        text-align: right;\n",
       "    }\n",
       "</style>\n",
       "<table border=\"1\" class=\"dataframe\">\n",
       "  <thead>\n",
       "    <tr style=\"text-align: right;\">\n",
       "      <th></th>\n",
       "      <th>VIODESCRIPTION</th>\n",
       "      <th>count</th>\n",
       "      <th>Fine mean</th>\n",
       "      <th>Fine std</th>\n",
       "      <th>Fine min</th>\n",
       "      <th>25%</th>\n",
       "      <th>50%</th>\n",
       "      <th>75%</th>\n",
       "      <th>Fine max</th>\n",
       "    </tr>\n",
       "  </thead>\n",
       "  <tbody>\n",
       "    <tr>\n",
       "      <th>29</th>\n",
       "      <td>PARK ON PRIVATE PROPERTY</td>\n",
       "      <td>49839.0</td>\n",
       "      <td>39.365808</td>\n",
       "      <td>3.924825</td>\n",
       "      <td>-15.0</td>\n",
       "      <td>40.0</td>\n",
       "      <td>40.0</td>\n",
       "      <td>40.0</td>\n",
       "      <td>150.0</td>\n",
       "    </tr>\n",
       "    <tr>\n",
       "      <th>37</th>\n",
       "      <td>PARKING 2:00 AM TO 6:00 AM PROHIBITED</td>\n",
       "      <td>161712.0</td>\n",
       "      <td>34.356683</td>\n",
       "      <td>3.683123</td>\n",
       "      <td>-17.0</td>\n",
       "      <td>35.0</td>\n",
       "      <td>35.0</td>\n",
       "      <td>35.0</td>\n",
       "      <td>40.0</td>\n",
       "    </tr>\n",
       "    <tr>\n",
       "      <th>13</th>\n",
       "      <td>PARK IN A DESIGNATED FIRE ROUTE</td>\n",
       "      <td>9623.0</td>\n",
       "      <td>110.354567</td>\n",
       "      <td>39.194162</td>\n",
       "      <td>-17.0</td>\n",
       "      <td>100.0</td>\n",
       "      <td>100.0</td>\n",
       "      <td>150.0</td>\n",
       "      <td>150.0</td>\n",
       "    </tr>\n",
       "    <tr>\n",
       "      <th>27</th>\n",
       "      <td>PARK ON MUNICIPAL PROPERTY</td>\n",
       "      <td>10025.0</td>\n",
       "      <td>37.871421</td>\n",
       "      <td>6.89529</td>\n",
       "      <td>-17.0</td>\n",
       "      <td>40.0</td>\n",
       "      <td>40.0</td>\n",
       "      <td>40.0</td>\n",
       "      <td>40.0</td>\n",
       "    </tr>\n",
       "    <tr>\n",
       "      <th>38</th>\n",
       "      <td>STOP IN PROHIBITED AREA</td>\n",
       "      <td>2297.0</td>\n",
       "      <td>86.145842</td>\n",
       "      <td>27.29579</td>\n",
       "      <td>-19.0</td>\n",
       "      <td>100.0</td>\n",
       "      <td>100.0</td>\n",
       "      <td>100.0</td>\n",
       "      <td>100.0</td>\n",
       "    </tr>\n",
       "  </tbody>\n",
       "</table>\n",
       "</div>"
      ],
      "text/plain": [
       "                           VIODESCRIPTION     count   Fine mean   Fine std  \\\n",
       "29               PARK ON PRIVATE PROPERTY   49839.0   39.365808   3.924825   \n",
       "37  PARKING 2:00 AM TO 6:00 AM PROHIBITED  161712.0   34.356683   3.683123   \n",
       "13        PARK IN A DESIGNATED FIRE ROUTE    9623.0  110.354567  39.194162   \n",
       "27             PARK ON MUNICIPAL PROPERTY   10025.0   37.871421    6.89529   \n",
       "38                STOP IN PROHIBITED AREA    2297.0   86.145842   27.29579   \n",
       "\n",
       "    Fine min    25%    50%    75%  Fine max  \n",
       "29     -15.0   40.0   40.0   40.0     150.0  \n",
       "37     -17.0   35.0   35.0   35.0      40.0  \n",
       "13     -17.0  100.0  100.0  150.0     150.0  \n",
       "27     -17.0   40.0   40.0   40.0      40.0  \n",
       "38     -19.0  100.0  100.0  100.0     100.0  "
      ]
     },
     "execution_count": 33,
     "metadata": {},
     "output_type": "execute_result"
    }
   ],
   "source": [
    "parking_ticket_reasons.sort_values(by=\"Fine min\", ascending=False).tail(5)\n",
    "# Why are they negative lol?"
   ]
  },
  {
   "cell_type": "markdown",
   "metadata": {},
   "source": [
    "### Most common reasons for parking tickets"
   ]
  },
  {
   "cell_type": "code",
   "execution_count": 34,
   "metadata": {},
   "outputs": [
    {
     "data": {
      "text/html": [
       "<div>\n",
       "<style scoped>\n",
       "    .dataframe tbody tr th:only-of-type {\n",
       "        vertical-align: middle;\n",
       "    }\n",
       "\n",
       "    .dataframe tbody tr th {\n",
       "        vertical-align: top;\n",
       "    }\n",
       "\n",
       "    .dataframe thead th {\n",
       "        text-align: right;\n",
       "    }\n",
       "</style>\n",
       "<table border=\"1\" class=\"dataframe\">\n",
       "  <thead>\n",
       "    <tr style=\"text-align: right;\">\n",
       "      <th></th>\n",
       "      <th>VIODESCRIPTION</th>\n",
       "      <th>count</th>\n",
       "      <th>Fine mean</th>\n",
       "      <th>Fine std</th>\n",
       "      <th>Fine min</th>\n",
       "      <th>25%</th>\n",
       "      <th>50%</th>\n",
       "      <th>75%</th>\n",
       "      <th>Fine max</th>\n",
       "    </tr>\n",
       "  </thead>\n",
       "  <tbody>\n",
       "    <tr>\n",
       "      <th>37</th>\n",
       "      <td>PARKING 2:00 AM TO 6:00 AM PROHIBITED</td>\n",
       "      <td>161712.0</td>\n",
       "      <td>34.356683</td>\n",
       "      <td>3.683123</td>\n",
       "      <td>-17.0</td>\n",
       "      <td>35.0</td>\n",
       "      <td>35.0</td>\n",
       "      <td>35.0</td>\n",
       "      <td>40.0</td>\n",
       "    </tr>\n",
       "    <tr>\n",
       "      <th>29</th>\n",
       "      <td>PARK ON PRIVATE PROPERTY</td>\n",
       "      <td>49839.0</td>\n",
       "      <td>39.365808</td>\n",
       "      <td>3.924825</td>\n",
       "      <td>-15.0</td>\n",
       "      <td>40.0</td>\n",
       "      <td>40.0</td>\n",
       "      <td>40.0</td>\n",
       "      <td>150.0</td>\n",
       "    </tr>\n",
       "    <tr>\n",
       "      <th>23</th>\n",
       "      <td>PARK OBSTRUCTING SIDEWALK</td>\n",
       "      <td>17241.0</td>\n",
       "      <td>37.961893</td>\n",
       "      <td>7.366468</td>\n",
       "      <td>0.0</td>\n",
       "      <td>40.0</td>\n",
       "      <td>40.0</td>\n",
       "      <td>40.0</td>\n",
       "      <td>40.0</td>\n",
       "    </tr>\n",
       "    <tr>\n",
       "      <th>16</th>\n",
       "      <td>PARK IN EXCESS OF 3 HOURS</td>\n",
       "      <td>11209.0</td>\n",
       "      <td>28.865198</td>\n",
       "      <td>4.582428</td>\n",
       "      <td>-5.0</td>\n",
       "      <td>30.0</td>\n",
       "      <td>30.0</td>\n",
       "      <td>30.0</td>\n",
       "      <td>30.0</td>\n",
       "    </tr>\n",
       "    <tr>\n",
       "      <th>14</th>\n",
       "      <td>PARK IN A PROHIBITED AREA</td>\n",
       "      <td>10675.0</td>\n",
       "      <td>33.64445</td>\n",
       "      <td>5.523662</td>\n",
       "      <td>0.0</td>\n",
       "      <td>35.0</td>\n",
       "      <td>35.0</td>\n",
       "      <td>35.0</td>\n",
       "      <td>35.0</td>\n",
       "    </tr>\n",
       "  </tbody>\n",
       "</table>\n",
       "</div>"
      ],
      "text/plain": [
       "                           VIODESCRIPTION     count  Fine mean  Fine std  \\\n",
       "37  PARKING 2:00 AM TO 6:00 AM PROHIBITED  161712.0  34.356683  3.683123   \n",
       "29               PARK ON PRIVATE PROPERTY   49839.0  39.365808  3.924825   \n",
       "23              PARK OBSTRUCTING SIDEWALK   17241.0  37.961893  7.366468   \n",
       "16              PARK IN EXCESS OF 3 HOURS   11209.0  28.865198  4.582428   \n",
       "14              PARK IN A PROHIBITED AREA   10675.0   33.64445  5.523662   \n",
       "\n",
       "    Fine min   25%   50%   75%  Fine max  \n",
       "37     -17.0  35.0  35.0  35.0      40.0  \n",
       "29     -15.0  40.0  40.0  40.0     150.0  \n",
       "23       0.0  40.0  40.0  40.0      40.0  \n",
       "16      -5.0  30.0  30.0  30.0      30.0  \n",
       "14       0.0  35.0  35.0  35.0      35.0  "
      ]
     },
     "execution_count": 34,
     "metadata": {},
     "output_type": "execute_result"
    }
   ],
   "source": [
    "parking_ticket_reasons.sort_values(by=\"count\", ascending=False).head(5)"
   ]
  },
  {
   "cell_type": "markdown",
   "metadata": {},
   "source": [
    "### Rarest reasons for parking tickets"
   ]
  },
  {
   "cell_type": "code",
   "execution_count": 35,
   "metadata": {},
   "outputs": [
    {
     "data": {
      "text/html": [
       "<div>\n",
       "<style scoped>\n",
       "    .dataframe tbody tr th:only-of-type {\n",
       "        vertical-align: middle;\n",
       "    }\n",
       "\n",
       "    .dataframe tbody tr th {\n",
       "        vertical-align: top;\n",
       "    }\n",
       "\n",
       "    .dataframe thead th {\n",
       "        text-align: right;\n",
       "    }\n",
       "</style>\n",
       "<table border=\"1\" class=\"dataframe\">\n",
       "  <thead>\n",
       "    <tr style=\"text-align: right;\">\n",
       "      <th></th>\n",
       "      <th>VIODESCRIPTION</th>\n",
       "      <th>count</th>\n",
       "      <th>Fine mean</th>\n",
       "      <th>Fine std</th>\n",
       "      <th>Fine min</th>\n",
       "      <th>25%</th>\n",
       "      <th>50%</th>\n",
       "      <th>75%</th>\n",
       "      <th>Fine max</th>\n",
       "    </tr>\n",
       "  </thead>\n",
       "  <tbody>\n",
       "    <tr>\n",
       "      <th>43</th>\n",
       "      <td>PARK IN FRONT OF LANEWAY</td>\n",
       "      <td>5.0</td>\n",
       "      <td>24.0</td>\n",
       "      <td>13.416408</td>\n",
       "      <td>0.0</td>\n",
       "      <td>30.0</td>\n",
       "      <td>30.0</td>\n",
       "      <td>30.0</td>\n",
       "      <td>30.0</td>\n",
       "    </tr>\n",
       "    <tr>\n",
       "      <th>28</th>\n",
       "      <td>PARK ON PEDESTRIAN CROSSOVER</td>\n",
       "      <td>4.0</td>\n",
       "      <td>30.0</td>\n",
       "      <td>0.0</td>\n",
       "      <td>30.0</td>\n",
       "      <td>30.0</td>\n",
       "      <td>30.0</td>\n",
       "      <td>30.0</td>\n",
       "      <td>30.0</td>\n",
       "    </tr>\n",
       "    <tr>\n",
       "      <th>46</th>\n",
       "      <td>STAND IN NO PARKING LOADING ZONE</td>\n",
       "      <td>4.0</td>\n",
       "      <td>50.0</td>\n",
       "      <td>0.0</td>\n",
       "      <td>50.0</td>\n",
       "      <td>50.0</td>\n",
       "      <td>50.0</td>\n",
       "      <td>50.0</td>\n",
       "      <td>50.0</td>\n",
       "    </tr>\n",
       "    <tr>\n",
       "      <th>45</th>\n",
       "      <td>PARK ON CROSSWALK</td>\n",
       "      <td>3.0</td>\n",
       "      <td>40.0</td>\n",
       "      <td>0.0</td>\n",
       "      <td>40.0</td>\n",
       "      <td>40.0</td>\n",
       "      <td>40.0</td>\n",
       "      <td>40.0</td>\n",
       "      <td>40.0</td>\n",
       "    </tr>\n",
       "    <tr>\n",
       "      <th>19</th>\n",
       "      <td>PARK IN TAXICAB STAND</td>\n",
       "      <td>1.0</td>\n",
       "      <td>40.0</td>\n",
       "      <td>&lt;NA&gt;</td>\n",
       "      <td>40.0</td>\n",
       "      <td>40.0</td>\n",
       "      <td>40.0</td>\n",
       "      <td>40.0</td>\n",
       "      <td>40.0</td>\n",
       "    </tr>\n",
       "  </tbody>\n",
       "</table>\n",
       "</div>"
      ],
      "text/plain": [
       "                      VIODESCRIPTION  count  Fine mean   Fine std  Fine min  \\\n",
       "43          PARK IN FRONT OF LANEWAY    5.0       24.0  13.416408       0.0   \n",
       "28      PARK ON PEDESTRIAN CROSSOVER    4.0       30.0        0.0      30.0   \n",
       "46  STAND IN NO PARKING LOADING ZONE    4.0       50.0        0.0      50.0   \n",
       "45                 PARK ON CROSSWALK    3.0       40.0        0.0      40.0   \n",
       "19             PARK IN TAXICAB STAND    1.0       40.0       <NA>      40.0   \n",
       "\n",
       "     25%   50%   75%  Fine max  \n",
       "43  30.0  30.0  30.0      30.0  \n",
       "28  30.0  30.0  30.0      30.0  \n",
       "46  50.0  50.0  50.0      50.0  \n",
       "45  40.0  40.0  40.0      40.0  \n",
       "19  40.0  40.0  40.0      40.0  "
      ]
     },
     "execution_count": 35,
     "metadata": {},
     "output_type": "execute_result"
    }
   ],
   "source": [
    "parking_ticket_reasons.sort_values(by=\"count\", ascending=False).tail(5)"
   ]
  },
  {
   "cell_type": "markdown",
   "metadata": {},
   "source": [
    "### What kinds of parking offense generate the most revenue for the city?"
   ]
  },
  {
   "cell_type": "code",
   "execution_count": 40,
   "metadata": {},
   "outputs": [
    {
     "data": {
      "text/plain": [
       "VIODESCRIPTION\n",
       "PARKING 2:00 AM TO 6:00 AM PROHIBITED    5555888.0\n",
       "PARK ON PRIVATE PROPERTY                 1961952.5\n",
       "PARK IN A DESIGNATED FIRE ROUTE          1061942.0\n",
       "PARK OBSTRUCTING SIDEWALK                 654501.0\n",
       "PARK ON MUNICIPAL PROPERTY                379661.0\n",
       "Name: VIOFINE, dtype: Float64"
      ]
     },
     "execution_count": 40,
     "metadata": {},
     "output_type": "execute_result"
    }
   ],
   "source": [
    "nonvoid.groupby(\"VIODESCRIPTION\", observed=True)[\"VIOFINE\"].sum().sort_values(ascending=False).head(5)"
   ]
  },
  {
   "cell_type": "markdown",
   "metadata": {},
   "source": [
    "## Spatial Trends"
   ]
  },
  {
   "cell_type": "code",
   "execution_count": null,
   "metadata": {},
   "outputs": [],
   "source": [
    "# TODO: Display a heat map of parking violation fines, that overlaps a map of Brampton (consider GeoPandas)"
   ]
  },
  {
   "cell_type": "markdown",
   "metadata": {},
   "source": [
    "Most frequently ticketed places in Brampton\n",
    "\n",
    "> Recreation centres are at the top of the list. Not unexpected"
   ]
  },
  {
   "cell_type": "code",
   "execution_count": 36,
   "metadata": {},
   "outputs": [
    {
     "data": {
      "text/plain": [
       "ADDRESS\n",
       "CENTRAL PARK DR AT 150         3545\n",
       "PETER ROBERTSON BLVD AT 995    2443\n",
       "RAY LAWSON BLVD AT 500         1565\n",
       "JOHN ST                        1206\n",
       "40 FINCHGATE BLVD              1197\n",
       "                               ... \n",
       "MOUNTAINASH RD NEAR 202           1\n",
       "PROUSE DR AT 11                   1\n",
       "MOUNTAINASH RD NEAR 195           1\n",
       "BEAR RUN RD NEAR 08               1\n",
       "LONG MEADOW RD NEAR 32            1\n",
       "Name: count, Length: 60641, dtype: int64"
      ]
     },
     "execution_count": 36,
     "metadata": {},
     "output_type": "execute_result"
    }
   ],
   "source": [
    "nonvoid[\"ADDRESS\"].value_counts(dropna=False)"
   ]
  },
  {
   "cell_type": "markdown",
   "metadata": {},
   "source": [
    "Parking violations by provincial/state license plate"
   ]
  },
  {
   "cell_type": "code",
   "execution_count": 47,
   "metadata": {},
   "outputs": [
    {
     "data": {
      "text/plain": [
       "LICSTATEPROV\n",
       "ON    303656\n",
       "QC      3367\n",
       "AB      1462\n",
       "AZ       513\n",
       "NY       493\n",
       "       ...  \n",
       "SD         1\n",
       "WY         1\n",
       "HI         1\n",
       "           0\n",
       "MX         0\n",
       "Name: count, Length: 68, dtype: int64"
      ]
     },
     "execution_count": 47,
     "metadata": {},
     "output_type": "execute_result"
    }
   ],
   "source": [
    "nonvoid[\"LICSTATEPROV\"].value_counts()"
   ]
  },
  {
   "cell_type": "markdown",
   "metadata": {},
   "source": [
    "## Seasonal & Annual Trends in Parking Violations"
   ]
  },
  {
   "cell_type": "code",
   "execution_count": null,
   "metadata": {},
   "outputs": [],
   "source": [
    "# TODO: Analysis of seasonal & annual trends in parking violations"
   ]
  },
  {
   "cell_type": "code",
   "execution_count": null,
   "metadata": {},
   "outputs": [],
   "source": [
    "# TODO: How frequently is someone in Brampton given a parking ticket?\n",
    "# Every second? Every day? Every week? Every month?"
   ]
  },
  {
   "cell_type": "code",
   "execution_count": null,
   "metadata": {},
   "outputs": [],
   "source": [
    "# TODO: Are there correlations between season and parking tickets? If so, how do those correlations change based on location?"
   ]
  },
  {
   "cell_type": "code",
   "execution_count": null,
   "metadata": {},
   "outputs": [],
   "source": [
    "# TODO: Does the clock-shifts for daylight savings have any effect on parking violations?\n",
    "#   I'm guessing parking violations get more frequent when the clocks move forward"
   ]
  },
  {
   "cell_type": "code",
   "execution_count": null,
   "metadata": {},
   "outputs": [],
   "source": [
    "# TODO: Are there correlations between time of day?\n",
    "#   Probably, considering 'Street parking before 2 - 6 AM is one of the most common violations"
   ]
  },
  {
   "cell_type": "code",
   "execution_count": null,
   "metadata": {},
   "outputs": [],
   "source": [
    "# TODO: Did Brampton's parking situation get worse or better over the time period of the dataset (2013 - 2018)?"
   ]
  },
  {
   "cell_type": "markdown",
   "metadata": {},
   "source": [
    "## Brampton vs the GTA: How bad are we, really?"
   ]
  },
  {
   "cell_type": "code",
   "execution_count": null,
   "metadata": {},
   "outputs": [],
   "source": [
    "# TODO: Compare Brampton to one of Toronto, Mississauga, or Vaughn. Take into account differences in:\n",
    "# - total population size,\n",
    "# - total population density\n",
    "# - driving population size\n",
    "# - law enforcement population size"
   ]
  },
  {
   "cell_type": "markdown",
   "metadata": {},
   "source": []
  }
 ],
 "metadata": {
  "kernelspec": {
   "display_name": "roadanalysis",
   "language": "python",
   "name": "python3"
  },
  "language_info": {
   "codemirror_mode": {
    "name": "ipython",
    "version": 3
   },
   "file_extension": ".py",
   "mimetype": "text/x-python",
   "name": "python",
   "nbconvert_exporter": "python",
   "pygments_lexer": "ipython3",
   "version": "3.12.0"
  },
  "orig_nbformat": 4
 },
 "nbformat": 4,
 "nbformat_minor": 2
}
